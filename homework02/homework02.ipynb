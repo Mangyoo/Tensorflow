{
  "cells": [
    {
      "cell_type": "code",
      "execution_count": 1,
      "metadata": {
        "colab": {
          "base_uri": "https://localhost:8080/",
          "height": 84,
          "referenced_widgets": [
            "1b75da9072bb4640956f020c4ac08fac",
            "8c9720bb2f2840e7b9dec0877043da0e",
            "e63c381ff4db43cba85d5f7ec53cc9cd",
            "272e049944d3449e87245914ccb6cddc",
            "d703f58814174053a37f973f3bb10058",
            "f9625e10f77349db96fd93a4f8d2aa9c",
            "189cab5f8d5547869208ede7dbae63bb",
            "06d4043b42ce4307ae0b609020abbef1",
            "580930e970d1418e89276ddd066f3c2f",
            "9c314d33430b479ca4153e978ab6f1eb",
            "7bd81d5a055b4aa287eeafbc15792aac"
          ]
        },
        "id": "kxZ-QBNYh7xO",
        "outputId": "ed4265de-c966-4d07-d55c-7c11d44c197c"
      },
      "outputs": [
        {
          "name": "stdout",
          "output_type": "stream",
          "text": [
            "Downloading and preparing dataset 11.06 MiB (download: 11.06 MiB, generated: 21.00 MiB, total: 32.06 MiB) to /root/tensorflow_datasets/mnist/3.0.1...\n"
          ]
        },
        {
          "data": {
            "application/vnd.jupyter.widget-view+json": {
              "model_id": "1b75da9072bb4640956f020c4ac08fac",
              "version_major": 2,
              "version_minor": 0
            },
            "text/plain": [
              "Dl Completed...:   0%|          | 0/5 [00:00<?, ? file/s]"
            ]
          },
          "metadata": {},
          "output_type": "display_data"
        },
        {
          "name": "stdout",
          "output_type": "stream",
          "text": [
            "Dataset mnist downloaded and prepared to /root/tensorflow_datasets/mnist/3.0.1. Subsequent calls will reuse this data.\n"
          ]
        }
      ],
      "source": [
        "import tensorflow_datasets as tfds\n",
        "import tensorflow as tf\n",
        "import numpy as np\n",
        "\n",
        "train_ds, test_ds = tfds.load('mnist', split=['train', 'test'], as_supervised=True)\n",
        "\n",
        "def prepare_data(ds):\n",
        " ds = ds.map(lambda img, target: (tf.reshape(img, (-1,)), target))\n",
        " ds = ds.map(lambda image, label: ((tf.cast(image, tf.float32)/128)-1, label))\n",
        " ds = ds.map(lambda image, label: (image, tf.one_hot(label, depth=10)))\n",
        " ds = ds.shuffle(1024).batch(32)\n",
        " ds = ds.prefetch(4)\n",
        " return ds\n",
        "\n",
        "train_dataset = train_ds.apply(prepare_data)\n",
        "test_dataset = test_ds.apply(prepare_data)"
      ]
    },
    {
      "cell_type": "code",
      "execution_count": 2,
      "metadata": {
        "id": "_CI3J232i4Go"
      },
      "outputs": [],
      "source": [
        "class MLP_Model(tf.keras.Model):\n",
        "  def __init__(self, layer_sizes, output_size=10):\n",
        "    super().__init__()\n",
        "    self.mlp_layers = []\n",
        "    #layzer size e.g. [256, 256]\n",
        "    for layer_size in layer_sizes:\n",
        "      new_layer = tf.keras.layers.Dense(units=layer_size, activation='sigmoid')\n",
        "      self.mlp_layers.append(new_layer)\n",
        "    self.output_layer = tf.keras.layers.Dense(units=output_size, activation=\"softmax\")\n",
        "\n",
        "  def call(self, x):\n",
        "    for layer in self.mlp_layers:\n",
        "      x = layer(x)\n",
        "    y = self.output_layer(x)\n",
        "    return y"
      ]
    },
    {
      "cell_type": "code",
      "execution_count": 3,
      "metadata": {
        "id": "vlrQm4yhtG4C"
      },
      "outputs": [],
      "source": [
        "def test(model, test_data, loss_function):\n",
        "  test_accuracy_aggregator = []\n",
        "  test_loss_aggregator = []\n",
        "  for (input, target) in test_data:\n",
        "    prediction = model(input)\n",
        "    sample_test_loss = loss_function(target, prediction)\n",
        "    sample_test_accuracy = tf.reduce_mean(tf.cast(tf.argmax(target, axis=1) == tf.argmax(prediction, axis=1), tf.float32))\n",
        "    test_loss_aggregator.append(sample_test_loss.numpy())\n",
        "    test_accuracy_aggregator.append(np.mean(sample_test_accuracy))\n",
        "  test_loss = tf.reduce_mean(test_loss_aggregator)\n",
        "  test_accuracy = tf.reduce_mean(test_accuracy_aggregator)\n",
        "  return test_loss, test_accuracy"
      ]
    },
    {
      "cell_type": "code",
      "execution_count": 14,
      "metadata": {
        "id": "N4MSD2Kx4RXo"
      },
      "outputs": [],
      "source": [
        "def training(epochs, model, train_dataset, test_data, loss_function, optimizer, train_losses, train_accuracies, test_losses, test_accuracies):\n",
        "\n",
        "    # first_loss, first_accuracy = test(model, test_data, cce)\n",
        "    # test_losses.append(first_loss)\n",
        "    # test_accuracies.append(first_accuracy)\n",
        "\n",
        "    for epoch in range(epochs):\n",
        "\n",
        "        if test_accuracies:\n",
        "            print(f'Epoch: {str(epoch)} starting with accuracy {test_accuracies[-1]}')\n",
        "        else:\n",
        "            print(f'Epoch: {str(epoch)} starting.')\n",
        "\n",
        "        epoch_loss_agg = []\n",
        "        losses, accuracies = [], []\n",
        "        for input_data, target_data in train_dataset:\n",
        "            with tf.GradientTape() as tape:\n",
        "                pred = model(input_data)\n",
        "                loss = loss_function(target_data, pred)\n",
        "            gradients = tape.gradient(loss, model.trainable_variables)\n",
        "            optimizer.apply_gradients(zip(gradients, model.trainable_variables))\n",
        "            epoch_loss_agg.append(loss)\n",
        "\n",
        "            sample_train_accuracy = tf.reduce_mean(tf.cast(tf.argmax(target_data, axis=1) == tf.argmax(pred, axis=1), tf.float32))\n",
        "            accuracies.append(sample_train_accuracy.numpy())\n",
        "            losses.append(tf.reduce_mean(epoch_loss_agg))\n",
        "\n",
        "        train_losses.append(tf.math.reduce_mean(losses))\n",
        "        train_accuracies.append(tf.math.reduce_mean(accuracies))\n",
        "\n",
        "        test_loss, test_accuracy = test(model, test_data, cce)\n",
        "        test_losses.append(test_loss)\n",
        "        test_accuracies.append(test_accuracy)\n",
        "\n",
        "    print(f'Ending with accuracy {test_accuracies[-1]}')\n",
        "\n",
        "    # return train_accuracies, train_losses, test_loss[:-1], test_accuracies[:-1]\n",
        "    return train_accuracies, train_losses, test_loss, test_accuracies"
      ]
    },
    {
      "cell_type": "code",
      "execution_count": 22,
      "metadata": {
        "colab": {
          "base_uri": "https://localhost:8080/"
        },
        "id": "yQ3ax76nnLvc",
        "outputId": "75426239-c695-4d9c-8ed6-38d735559791"
      },
      "outputs": [
        {
          "name": "stdout",
          "output_type": "stream",
          "text": [
            "Epoch: 0 starting.\n",
            "Epoch: 1 starting with accuracy 0.078125\n",
            "Epoch: 2 starting with accuracy 0.625\n",
            "Epoch: 3 starting with accuracy 0.7093750238418579\n",
            "Epoch: 4 starting with accuracy 0.796875\n",
            "Epoch: 5 starting with accuracy 0.7875000238418579\n",
            "Epoch: 6 starting with accuracy 0.8843749761581421\n",
            "Epoch: 7 starting with accuracy 0.8531249761581421\n",
            "Epoch: 8 starting with accuracy 0.90625\n",
            "Epoch: 9 starting with accuracy 0.8999999761581421\n",
            "Epoch: 10 starting with accuracy 0.893750011920929\n",
            "Epoch: 11 starting with accuracy 0.925000011920929\n",
            "Epoch: 12 starting with accuracy 0.8968750238418579\n",
            "Epoch: 13 starting with accuracy 0.9125000238418579\n",
            "Epoch: 14 starting with accuracy 0.8999999761581421\n",
            "Epoch: 15 starting with accuracy 0.921875\n",
            "Epoch: 16 starting with accuracy 0.909375011920929\n",
            "Epoch: 17 starting with accuracy 0.90625\n",
            "Epoch: 18 starting with accuracy 0.925000011920929\n",
            "Epoch: 19 starting with accuracy 0.8999999761581421\n",
            "Epoch: 20 starting with accuracy 0.9281250238418579\n",
            "Epoch: 21 starting with accuracy 0.8531249761581421\n",
            "Epoch: 22 starting with accuracy 0.9437500238418579\n",
            "Epoch: 23 starting with accuracy 0.9281250238418579\n",
            "Epoch: 24 starting with accuracy 0.940625011920929\n",
            "Epoch: 25 starting with accuracy 0.9281250238418579\n",
            "Epoch: 26 starting with accuracy 0.921875\n",
            "Epoch: 27 starting with accuracy 0.934374988079071\n",
            "Epoch: 28 starting with accuracy 0.934374988079071\n",
            "Epoch: 29 starting with accuracy 0.949999988079071\n",
            "Epoch: 30 starting with accuracy 0.925000011920929\n",
            "Epoch: 31 starting with accuracy 0.949999988079071\n",
            "Epoch: 32 starting with accuracy 0.8843749761581421\n",
            "Epoch: 33 starting with accuracy 0.9468749761581421\n",
            "Epoch: 34 starting with accuracy 0.921875\n",
            "Epoch: 35 starting with accuracy 0.956250011920929\n",
            "Epoch: 36 starting with accuracy 0.9437500238418579\n",
            "Epoch: 37 starting with accuracy 0.9375\n",
            "Epoch: 38 starting with accuracy 0.9468749761581421\n",
            "Epoch: 39 starting with accuracy 0.9312499761581421\n",
            "Epoch: 40 starting with accuracy 0.9375\n",
            "Epoch: 41 starting with accuracy 0.903124988079071\n",
            "Epoch: 42 starting with accuracy 0.909375011920929\n",
            "Epoch: 43 starting with accuracy 0.9281250238418579\n",
            "Epoch: 44 starting with accuracy 0.940625011920929\n",
            "Epoch: 45 starting with accuracy 0.9125000238418579\n",
            "Epoch: 46 starting with accuracy 0.90625\n",
            "Epoch: 47 starting with accuracy 0.925000011920929\n",
            "Epoch: 48 starting with accuracy 0.9437500238418579\n",
            "Epoch: 49 starting with accuracy 0.887499988079071\n",
            "Ending with accuracy 0.9156249761581421\n"
          ]
        }
      ],
      "source": [
        "train_dataset = train_dataset.take(100)\n",
        "test_dataset = test_dataset.take(10)\n",
        "\n",
        "EPOCHS = 50\n",
        "learning_rate = 0.8\n",
        "model = MLP_Model(layer_sizes=[256,256], )\n",
        "\n",
        "cce = tf.keras.losses.CategoricalCrossentropy()\n",
        "optimizer = tf.keras.optimizers.legacy.SGD(learning_rate=learning_rate)\n",
        "\n",
        "train_losses = []\n",
        "train_accuracies = []\n",
        "test_losses = []\n",
        "test_accuracies = []\n",
        "\n",
        "train_accuracies, train_losses, test_loss, test_accuracies = training(EPOCHS, model, train_dataset, test_dataset, cce, optimizer,\n",
        "                                                                      train_losses, train_accuracies, test_losses, test_accuracies)"
      ]
    },
    {
      "cell_type": "code",
      "execution_count": 23,
      "metadata": {
        "colab": {
          "base_uri": "https://localhost:8080/",
          "height": 489
        },
        "id": "QY9qcJEbza1v",
        "outputId": "a05e3901-2d32-4463-d0ba-0b8210236b32"
      },
      "outputs": [
        {
          "name": "stdout",
          "output_type": "stream",
          "text": [
            "[<tf.Tensor: shape=(), dtype=float32, numpy=0.1253125>, <tf.Tensor: shape=(), dtype=float32, numpy=0.4115625>, <tf.Tensor: shape=(), dtype=float32, numpy=0.691875>, <tf.Tensor: shape=(), dtype=float32, numpy=0.8040625>, <tf.Tensor: shape=(), dtype=float32, numpy=0.84>, <tf.Tensor: shape=(), dtype=float32, numpy=0.8903125>, <tf.Tensor: shape=(), dtype=float32, numpy=0.89375>, <tf.Tensor: shape=(), dtype=float32, numpy=0.9153125>, <tf.Tensor: shape=(), dtype=float32, numpy=0.9253125>, <tf.Tensor: shape=(), dtype=float32, numpy=0.928125>, <tf.Tensor: shape=(), dtype=float32, numpy=0.9465625>, <tf.Tensor: shape=(), dtype=float32, numpy=0.9471875>, <tf.Tensor: shape=(), dtype=float32, numpy=0.9521875>, <tf.Tensor: shape=(), dtype=float32, numpy=0.95625>, <tf.Tensor: shape=(), dtype=float32, numpy=0.9496875>, <tf.Tensor: shape=(), dtype=float32, numpy=0.961875>, <tf.Tensor: shape=(), dtype=float32, numpy=0.9703125>, <tf.Tensor: shape=(), dtype=float32, numpy=0.9796875>, <tf.Tensor: shape=(), dtype=float32, numpy=0.980625>, <tf.Tensor: shape=(), dtype=float32, numpy=0.98>, <tf.Tensor: shape=(), dtype=float32, numpy=0.9821875>, <tf.Tensor: shape=(), dtype=float32, numpy=0.984375>, <tf.Tensor: shape=(), dtype=float32, numpy=0.9925>, <tf.Tensor: shape=(), dtype=float32, numpy=0.994375>, <tf.Tensor: shape=(), dtype=float32, numpy=0.9896875>, <tf.Tensor: shape=(), dtype=float32, numpy=0.995625>, <tf.Tensor: shape=(), dtype=float32, numpy=0.9928125>, <tf.Tensor: shape=(), dtype=float32, numpy=0.995>, <tf.Tensor: shape=(), dtype=float32, numpy=0.99375>, <tf.Tensor: shape=(), dtype=float32, numpy=0.99625>, <tf.Tensor: shape=(), dtype=float32, numpy=0.998125>, <tf.Tensor: shape=(), dtype=float32, numpy=0.9940625>, <tf.Tensor: shape=(), dtype=float32, numpy=0.99625>, <tf.Tensor: shape=(), dtype=float32, numpy=0.9990625>, <tf.Tensor: shape=(), dtype=float32, numpy=0.9996875>, <tf.Tensor: shape=(), dtype=float32, numpy=0.999375>, <tf.Tensor: shape=(), dtype=float32, numpy=0.9990625>, <tf.Tensor: shape=(), dtype=float32, numpy=0.999375>, <tf.Tensor: shape=(), dtype=float32, numpy=0.996875>, <tf.Tensor: shape=(), dtype=float32, numpy=0.9440625>, <tf.Tensor: shape=(), dtype=float32, numpy=0.9803125>, <tf.Tensor: shape=(), dtype=float32, numpy=0.983125>, <tf.Tensor: shape=(), dtype=float32, numpy=0.995>, <tf.Tensor: shape=(), dtype=float32, numpy=0.996875>, <tf.Tensor: shape=(), dtype=float32, numpy=0.971875>, <tf.Tensor: shape=(), dtype=float32, numpy=0.98875>, <tf.Tensor: shape=(), dtype=float32, numpy=0.9928125>, <tf.Tensor: shape=(), dtype=float32, numpy=0.9975>, <tf.Tensor: shape=(), dtype=float32, numpy=0.948125>, <tf.Tensor: shape=(), dtype=float32, numpy=0.9765625>]\n"
          ]
        },
        {
          "data": {
            "image/png": "[encoded data removed]",
            "text/plain": [
              "<Figure size 640x480 with 1 Axes>"
            ]
          },
          "metadata": {},
          "output_type": "display_data"
        }
      ],
      "source": [
        "import matplotlib.pyplot as plt\n",
        "#def visualization(train_lossses, train_accuracies, test_losses, test_accuracies):\n",
        "plt.figure()\n",
        "print(train_accuracies)\n",
        "line1, = plt.plot(train_losses)\n",
        "line2, = plt.plot(test_losses)\n",
        "line3, = plt.plot(train_accuracies, \"b:\")\n",
        "line4, = plt.plot(test_accuracies, \"r:\")\n",
        "plt.xlabel(\"Training steps\")\n",
        "plt.ylabel(\"Loss/Accuracy\")\n",
        "plt.legend((line1,line2, line3, line4),(\"training\",\"test\",\"train accuracy\", \"test accuracy\"))\n",
        "plt.show()"
      ]
    },
    {
      "cell_type": "markdown",
      "metadata": {
        "id": "aanOZNZ65He4"
      },
      "source": [
        "#2.1)\n",
        "1. 70000 overall (10000 for test and 60000 for training)\n",
        "2. 28,28,1 (Length, Width, Grayvalue)\n",
        "3. 0-255 (0 = black/no intensity, 255 = white/full intensity)\n",
        "\n",
        "\n",
        "#3.)\n",
        "1. We can provoke overfitting by adding a lot of additional layers\n",
        "2. The same applies when we train the model using too many epochs.\n",
        "3. We can provoke underfitting by having not enough layers or nodes\n",
        "4. The same applies when our learning rate is too high and our model converges too quickly\n"
      ]
    }
  ],
  "metadata": {
    "accelerator": "GPU",
    "colab": {
      "provenance": []
    },
    "kernelspec": {
      "display_name": "Python 3",
      "name": "python3"
    },
    "language_info": {
      "name": "python"
    },
    "widgets": {
      "application/vnd.jupyter.widget-state+json": {
        "06d4043b42ce4307ae0b609020abbef1": {
          "model_module": "@jupyter-widgets/base",
          "model_module_version": "1.2.0",
          "model_name": "LayoutModel",
          "state": {
            "_model_module": "@jupyter-widgets/base",
            "_model_module_version": "1.2.0",
            "_model_name": "LayoutModel",
            "_view_count": null,
            "_view_module": "@jupyter-widgets/base",
            "_view_module_version": "1.2.0",
            "_view_name": "LayoutView",
            "align_content": null,
            "align_items": null,
            "align_self": null,
            "border": null,
            "bottom": null,
            "display": null,
            "flex": null,
            "flex_flow": null,
            "grid_area": null,
            "grid_auto_columns": null,
            "grid_auto_flow": null,
            "grid_auto_rows": null,
            "grid_column": null,
            "grid_gap": null,
            "grid_row": null,
            "grid_template_areas": null,
            "grid_template_columns": null,
            "grid_template_rows": null,
            "height": null,
            "justify_content": null,
            "justify_items": null,
            "left": null,
            "margin": null,
            "max_height": null,
            "max_width": null,
            "min_height": null,
            "min_width": null,
            "object_fit": null,
            "object_position": null,
            "order": null,
            "overflow": null,
            "overflow_x": null,
            "overflow_y": null,
            "padding": null,
            "right": null,
            "top": null,
            "visibility": null,
            "width": null
          }
        },
        "189cab5f8d5547869208ede7dbae63bb": {
          "model_module": "@jupyter-widgets/controls",
          "model_module_version": "1.5.0",
          "model_name": "DescriptionStyleModel",
          "state": {
            "_model_module": "@jupyter-widgets/controls",
            "_model_module_version": "1.5.0",
            "_model_name": "DescriptionStyleModel",
            "_view_count": null,
            "_view_module": "@jupyter-widgets/base",
            "_view_module_version": "1.2.0",
            "_view_name": "StyleView",
            "description_width": ""
          }
        },
        "1b75da9072bb4640956f020c4ac08fac": {
          "model_module": "@jupyter-widgets/controls",
          "model_module_version": "1.5.0",
          "model_name": "HBoxModel",
          "state": {
            "_dom_classes": [],
            "_model_module": "@jupyter-widgets/controls",
            "_model_module_version": "1.5.0",
            "_model_name": "HBoxModel",
            "_view_count": null,
            "_view_module": "@jupyter-widgets/controls",
            "_view_module_version": "1.5.0",
            "_view_name": "HBoxView",
            "box_style": "",
            "children": [
              "IPY_MODEL_8c9720bb2f2840e7b9dec0877043da0e",
              "IPY_MODEL_e63c381ff4db43cba85d5f7ec53cc9cd",
              "IPY_MODEL_272e049944d3449e87245914ccb6cddc"
            ],
            "layout": "IPY_MODEL_d703f58814174053a37f973f3bb10058"
          }
        },
        "272e049944d3449e87245914ccb6cddc": {
          "model_module": "@jupyter-widgets/controls",
          "model_module_version": "1.5.0",
          "model_name": "HTMLModel",
          "state": {
            "_dom_classes": [],
            "_model_module": "@jupyter-widgets/controls",
            "_model_module_version": "1.5.0",
            "_model_name": "HTMLModel",
            "_view_count": null,
            "_view_module": "@jupyter-widgets/controls",
            "_view_module_version": "1.5.0",
            "_view_name": "HTMLView",
            "description": "",
            "description_tooltip": null,
            "layout": "IPY_MODEL_9c314d33430b479ca4153e978ab6f1eb",
            "placeholder": "​",
            "style": "IPY_MODEL_7bd81d5a055b4aa287eeafbc15792aac",
            "value": " 5/5 [00:00&lt;00:00, 12.51 file/s]"
          }
        },
        "580930e970d1418e89276ddd066f3c2f": {
          "model_module": "@jupyter-widgets/controls",
          "model_module_version": "1.5.0",
          "model_name": "ProgressStyleModel",
          "state": {
            "_model_module": "@jupyter-widgets/controls",
            "_model_module_version": "1.5.0",
            "_model_name": "ProgressStyleModel",
            "_view_count": null,
            "_view_module": "@jupyter-widgets/base",
            "_view_module_version": "1.2.0",
            "_view_name": "StyleView",
            "bar_color": null,
            "description_width": ""
          }
        },
        "7bd81d5a055b4aa287eeafbc15792aac": {
          "model_module": "@jupyter-widgets/controls",
          "model_module_version": "1.5.0",
          "model_name": "DescriptionStyleModel",
          "state": {
            "_model_module": "@jupyter-widgets/controls",
            "_model_module_version": "1.5.0",
            "_model_name": "DescriptionStyleModel",
            "_view_count": null,
            "_view_module": "@jupyter-widgets/base",
            "_view_module_version": "1.2.0",
            "_view_name": "StyleView",
            "description_width": ""
          }
        },
        "8c9720bb2f2840e7b9dec0877043da0e": {
          "model_module": "@jupyter-widgets/controls",
          "model_module_version": "1.5.0",
          "model_name": "HTMLModel",
          "state": {
            "_dom_classes": [],
            "_model_module": "@jupyter-widgets/controls",
            "_model_module_version": "1.5.0",
            "_model_name": "HTMLModel",
            "_view_count": null,
            "_view_module": "@jupyter-widgets/controls",
            "_view_module_version": "1.5.0",
            "_view_name": "HTMLView",
            "description": "",
            "description_tooltip": null,
            "layout": "IPY_MODEL_f9625e10f77349db96fd93a4f8d2aa9c",
            "placeholder": "​",
            "style": "IPY_MODEL_189cab5f8d5547869208ede7dbae63bb",
            "value": "Dl Completed...: 100%"
          }
        },
        "9c314d33430b479ca4153e978ab6f1eb": {
          "model_module": "@jupyter-widgets/base",
          "model_module_version": "1.2.0",
          "model_name": "LayoutModel",
          "state": {
            "_model_module": "@jupyter-widgets/base",
            "_model_module_version": "1.2.0",
            "_model_name": "LayoutModel",
            "_view_count": null,
            "_view_module": "@jupyter-widgets/base",
            "_view_module_version": "1.2.0",
            "_view_name": "LayoutView",
            "align_content": null,
            "align_items": null,
            "align_self": null,
            "border": null,
            "bottom": null,
            "display": null,
            "flex": null,
            "flex_flow": null,
            "grid_area": null,
            "grid_auto_columns": null,
            "grid_auto_flow": null,
            "grid_auto_rows": null,
            "grid_column": null,
            "grid_gap": null,
            "grid_row": null,
            "grid_template_areas": null,
            "grid_template_columns": null,
            "grid_template_rows": null,
            "height": null,
            "justify_content": null,
            "justify_items": null,
            "left": null,
            "margin": null,
            "max_height": null,
            "max_width": null,
            "min_height": null,
            "min_width": null,
            "object_fit": null,
            "object_position": null,
            "order": null,
            "overflow": null,
            "overflow_x": null,
            "overflow_y": null,
            "padding": null,
            "right": null,
            "top": null,
            "visibility": null,
            "width": null
          }
        },
        "d703f58814174053a37f973f3bb10058": {
          "model_module": "@jupyter-widgets/base",
          "model_module_version": "1.2.0",
          "model_name": "LayoutModel",
          "state": {
            "_model_module": "@jupyter-widgets/base",
            "_model_module_version": "1.2.0",
            "_model_name": "LayoutModel",
            "_view_count": null,
            "_view_module": "@jupyter-widgets/base",
            "_view_module_version": "1.2.0",
            "_view_name": "LayoutView",
            "align_content": null,
            "align_items": null,
            "align_self": null,
            "border": null,
            "bottom": null,
            "display": null,
            "flex": null,
            "flex_flow": null,
            "grid_area": null,
            "grid_auto_columns": null,
            "grid_auto_flow": null,
            "grid_auto_rows": null,
            "grid_column": null,
            "grid_gap": null,
            "grid_row": null,
            "grid_template_areas": null,
            "grid_template_columns": null,
            "grid_template_rows": null,
            "height": null,
            "justify_content": null,
            "justify_items": null,
            "left": null,
            "margin": null,
            "max_height": null,
            "max_width": null,
            "min_height": null,
            "min_width": null,
            "object_fit": null,
            "object_position": null,
            "order": null,
            "overflow": null,
            "overflow_x": null,
            "overflow_y": null,
            "padding": null,
            "right": null,
            "top": null,
            "visibility": null,
            "width": null
          }
        },
        "e63c381ff4db43cba85d5f7ec53cc9cd": {
          "model_module": "@jupyter-widgets/controls",
          "model_module_version": "1.5.0",
          "model_name": "FloatProgressModel",
          "state": {
            "_dom_classes": [],
            "_model_module": "@jupyter-widgets/controls",
            "_model_module_version": "1.5.0",
            "_model_name": "FloatProgressModel",
            "_view_count": null,
            "_view_module": "@jupyter-widgets/controls",
            "_view_module_version": "1.5.0",
            "_view_name": "ProgressView",
            "bar_style": "success",
            "description": "",
            "description_tooltip": null,
            "layout": "IPY_MODEL_06d4043b42ce4307ae0b609020abbef1",
            "max": 5,
            "min": 0,
            "orientation": "horizontal",
            "style": "IPY_MODEL_580930e970d1418e89276ddd066f3c2f",
            "value": 5
          }
        },
        "f9625e10f77349db96fd93a4f8d2aa9c": {
          "model_module": "@jupyter-widgets/base",
          "model_module_version": "1.2.0",
          "model_name": "LayoutModel",
          "state": {
            "_model_module": "@jupyter-widgets/base",
            "_model_module_version": "1.2.0",
            "_model_name": "LayoutModel",
            "_view_count": null,
            "_view_module": "@jupyter-widgets/base",
            "_view_module_version": "1.2.0",
            "_view_name": "LayoutView",
            "align_content": null,
            "align_items": null,
            "align_self": null,
            "border": null,
            "bottom": null,
            "display": null,
            "flex": null,
            "flex_flow": null,
            "grid_area": null,
            "grid_auto_columns": null,
            "grid_auto_flow": null,
            "grid_auto_rows": null,
            "grid_column": null,
            "grid_gap": null,
            "grid_row": null,
            "grid_template_areas": null,
            "grid_template_columns": null,
            "grid_template_rows": null,
            "height": null,
            "justify_content": null,
            "justify_items": null,
            "left": null,
            "margin": null,
            "max_height": null,
            "max_width": null,
            "min_height": null,
            "min_width": null,
            "object_fit": null,
            "object_position": null,
            "order": null,
            "overflow": null,
            "overflow_x": null,
            "overflow_y": null,
            "padding": null,
            "right": null,
            "top": null,
            "visibility": null,
            "width": null
          }
        }
      }
    }
  },
  "nbformat": 4,
  "nbformat_minor": 0
}
